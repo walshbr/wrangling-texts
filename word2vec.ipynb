{
 "cells": [
  {
   "cell_type": "markdown",
   "metadata": {
    "deletable": true,
    "editable": true
   },
   "source": [
    "Word2vec implementation derived from a project Chad Wellmon asked us to work on.\n",
    "\n",
    "github.com/walshbr/science"
   ]
  },
  {
   "cell_type": "code",
   "execution_count": 10,
   "metadata": {
    "collapsed": false,
    "deletable": true,
    "editable": true
   },
   "outputs": [],
   "source": [
    "import gensim\n",
    "import nltk\n",
    "import string\n",
    "import csv\n",
    "\n",
    "# set filename\n",
    "filename = 'woolf.txt'\n",
    "\n",
    "# open file and read in lines\n",
    "with open(filename, 'r') as file_in:\n",
    "    raw_text = file_in.readlines()\n",
    "    \n",
    "# take the text file and get sentences.\n",
    "\n",
    "sentences = []\n",
    "for line in raw_text:\n",
    "    sentences.extend(nltk.sent_tokenize(line))\n",
    "\n",
    "tokenized_sentences = []\n",
    "for sentence in sentences:\n",
    "    # tokenize each sentenceand lowercase all the tokens\n",
    "    sent_tokens = [token.lower() for token in nltk.word_tokenize(sentence) if token not in string.punctuation]\n",
    "    # add the list of lowercased tokens to tokenized_sentences\n",
    "    tokenized_sentences.append(sent_tokens)\n",
    "    \n",
    "\n",
    "model =  gensim.models.Word2Vec(\n",
    "        tokenized_sentences, size=100, window=5,\n",
    "        min_count=5, sg=0, alpha=0.025,\n",
    "        iter=5, batch_words=10000)\n"
   ]
  },
  {
   "cell_type": "code",
   "execution_count": 12,
   "metadata": {
    "collapsed": false,
    "scrolled": true
   },
   "outputs": [
    {
     "data": {
      "text/plain": [
       "[('rachel', 0.9984060525894165),\n",
       " ('she', 0.9981257319450378),\n",
       " ('evelyn', 0.9962130784988403),\n",
       " ('richard', 0.9961352944374084),\n",
       " ('terence', 0.9961078763008118),\n",
       " ('clarissa', 0.9956369400024414),\n",
       " ('ridley', 0.9956038594245911),\n",
       " ('answer', 0.9950387477874756),\n",
       " ('remarked', 0.9948310852050781),\n",
       " ('st.', 0.9947529435157776)]"
      ]
     },
     "execution_count": 12,
     "metadata": {},
     "output_type": "execute_result"
    }
   ],
   "source": [
    "model.wv.most_similar('he')"
   ]
  },
  {
   "cell_type": "code",
   "execution_count": 13,
   "metadata": {
    "collapsed": false
   },
   "outputs": [
    {
     "data": {
      "text/plain": [
       "[('kept', 0.9997448325157166),\n",
       " ('behind', 0.9997336864471436),\n",
       " ('making', 0.9997029304504395),\n",
       " ('english', 0.9996887445449829),\n",
       " ('falling', 0.9996826648712158),\n",
       " ('deep', 0.9996825456619263),\n",
       " ('moved', 0.9996793270111084),\n",
       " ('hair', 0.99967360496521),\n",
       " ('slowly', 0.9996722936630249),\n",
       " ('filled', 0.9996589422225952)]"
      ]
     },
     "execution_count": 13,
     "metadata": {},
     "output_type": "execute_result"
    }
   ],
   "source": [
    "model.wv.most_similar('silent')"
   ]
  },
  {
   "cell_type": "code",
   "execution_count": 16,
   "metadata": {
    "collapsed": false
   },
   "outputs": [
    {
     "data": {
      "text/plain": [
       "[('her', 0.978934645652771),\n",
       " ('of', 0.978796660900116),\n",
       " ('his', 0.9783380627632141),\n",
       " ('their', 0.9693382978439331),\n",
       " ('and', 0.9690917730331421),\n",
       " ('on', 0.9682581424713135),\n",
       " ('by', 0.9644982814788818),\n",
       " ('at', 0.9604359269142151),\n",
       " ('in', 0.9590129256248474),\n",
       " ('from', 0.956847071647644)]"
      ]
     },
     "execution_count": 16,
     "metadata": {},
     "output_type": "execute_result"
    }
   ],
   "source": [
    "model.wv.most_similar('the')"
   ]
  },
  {
   "cell_type": "code",
   "execution_count": null,
   "metadata": {
    "collapsed": true
   },
   "outputs": [],
   "source": []
  }
 ],
 "metadata": {
  "kernelspec": {
   "display_name": "Python 3",
   "language": "python",
   "name": "python3"
  },
  "language_info": {
   "codemirror_mode": {
    "name": "ipython",
    "version": 3
   },
   "file_extension": ".py",
   "mimetype": "text/x-python",
   "name": "python",
   "nbconvert_exporter": "python",
   "pygments_lexer": "ipython3",
   "version": "3.6.1"
  }
 },
 "nbformat": 4,
 "nbformat_minor": 2
}
